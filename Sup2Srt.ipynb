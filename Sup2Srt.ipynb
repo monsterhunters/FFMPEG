{
  "nbformat": 4,
  "nbformat_minor": 0,
  "metadata": {
    "colab": {
      "provenance": [],
      "authorship_tag": "ABX9TyOA/Mqsrm22zopl3ESMt5MZ",
      "include_colab_link": true
    },
    "kernelspec": {
      "name": "python3",
      "display_name": "Python 3"
    },
    "language_info": {
      "name": "python"
    }
  },
  "cells": [
    {
      "cell_type": "markdown",
      "metadata": {
        "id": "view-in-github",
        "colab_type": "text"
      },
      "source": [
        "<a href=\"https://colab.research.google.com/github/monsterhunters/FFMPEG/blob/main/Sup2Srt.ipynb\" target=\"_parent\"><img src=\"https://colab.research.google.com/assets/colab-badge.svg\" alt=\"Open In Colab\"/></a>"
      ]
    },
    {
      "cell_type": "code",
      "execution_count": null,
      "metadata": {
        "id": "InbNMSHWnLUz"
      },
      "outputs": [],
      "source": [
        "!pip install pgsrip"
      ]
    },
    {
      "cell_type": "code",
      "source": [
        "!sudo add-apt-repository ppa:alex-p/tesseract-ocr5 -y\n",
        "!sudo apt update\n",
        "!sudo apt-get install tesseract-ocr"
      ],
      "metadata": {
        "id": "Q0oc-JarnbjG"
      },
      "execution_count": null,
      "outputs": []
    },
    {
      "cell_type": "code",
      "source": [
        "!git clone https://github.com/tesseract-ocr/tessdata_best.git\n",
        "!export TESSDATA_PREFIX=~/tessdata_best"
      ],
      "metadata": {
        "id": "PeTwsgGrnd0_"
      },
      "execution_count": null,
      "outputs": []
    },
    {
      "cell_type": "code",
      "source": [
        "!pgsrip \"/content/test.sup\""
      ],
      "metadata": {
        "id": "SBR07llFniEO"
      },
      "execution_count": null,
      "outputs": []
    }
  ]
}