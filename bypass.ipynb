{
  "nbformat": 4,
  "nbformat_minor": 0,
  "metadata": {
    "colab": {
      "provenance": [],
      "authorship_tag": "ABX9TyORhTqmGKamba+3P3arlN3P",
      "include_colab_link": true
    },
    "kernelspec": {
      "name": "python3",
      "display_name": "Python 3"
    },
    "language_info": {
      "name": "python"
    }
  },
  "cells": [
    {
      "cell_type": "markdown",
      "metadata": {
        "id": "view-in-github",
        "colab_type": "text"
      },
      "source": [
        "<a href=\"https://colab.research.google.com/github/monsterhunters/FFMPEG/blob/main/bypass.ipynb\" target=\"_parent\"><img src=\"https://colab.research.google.com/assets/colab-badge.svg\" alt=\"Open In Colab\"/></a>"
      ]
    },
    {
      "cell_type": "markdown",
      "source": [
        "#Bypass link V1.0\n",
        "\n"
      ],
      "metadata": {
        "id": "_BV4Okh8NuEz"
      }
    },
    {
      "cell_type": "code",
      "execution_count": null,
      "metadata": {
        "cellView": "form",
        "id": "4cGjGDsVMx_D"
      },
      "outputs": [],
      "source": [
        "#@title Install\n",
        "!pip install PyBypass"
      ]
    },
    {
      "cell_type": "code",
      "source": [
        "#@title Bypass Link\n",
        "link_to_bypass = \"\" #@param {type:\"string\"}\n",
        "\n",
        "\n",
        "import PyBypass as bypasser\n",
        "\n",
        "bypassed_link = bypasser.bypass(link_to_bypass)\n",
        "\n",
        "print(bypassed_link)"
      ],
      "metadata": {
        "cellView": "form",
        "id": "hWH4z_xuM2-L"
      },
      "execution_count": null,
      "outputs": []
    }
  ]
}